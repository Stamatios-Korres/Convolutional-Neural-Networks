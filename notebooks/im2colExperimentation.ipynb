{
 "cells": [
  {
   "cell_type": "code",
   "execution_count": 50,
   "metadata": {
    "ExecuteTime": {
     "end_time": "2018-11-07T13:49:13.702411Z",
     "start_time": "2018-11-07T13:49:13.690643Z"
    }
   },
   "outputs": [],
   "source": [
    "import numpy as np"
   ]
  },
  {
   "cell_type": "code",
   "execution_count": 51,
   "metadata": {
    "ExecuteTime": {
     "end_time": "2018-11-07T13:49:13.970178Z",
     "start_time": "2018-11-07T13:49:13.895956Z"
    }
   },
   "outputs": [],
   "source": [
    "def get_im2col_indices(x_shape, field_height, field_width, padding=1, stride=1):\n",
    "    # First figure out what the size of the output should be\n",
    "    N, C, H, W = x_shape\n",
    "    assert (H + 2 * padding - field_height) % stride == 0\n",
    "    assert (W + 2 * padding - field_height) % stride == 0\n",
    "    out_height = (H + 2 * padding - field_height) // stride + 1\n",
    "    out_width = (W + 2 * padding - field_width) // stride + 1\n",
    "\n",
    "    i0 = np.repeat(np.arange(field_height), field_width)\n",
    "    i0 = np.tile(i0, C)\n",
    "    i1 = stride * np.repeat(np.arange(out_height), out_width)\n",
    "    j0 = np.tile(np.arange(field_width), field_height * C)\n",
    "    j1 = stride * np.tile(np.arange(out_width), out_height)\n",
    "    i = i0.reshape(-1, 1) + i1.reshape(1, -1)\n",
    "    j = j0.reshape(-1, 1) + j1.reshape(1, -1)\n",
    "\n",
    "    k = np.repeat(np.arange(C), field_height * field_width).reshape(-1, 1)\n",
    "\n",
    "    return (k, i, j)\n",
    "\n",
    "def im2col_indices(x, field_height, field_width, padding=1, stride=1):\n",
    "    \"\"\" An implementation of im2col based on some fancy indexing \"\"\"\n",
    "    # Zero-pad the input\n",
    "    p = padding\n",
    "    x_padded = np.pad(x, ((0, 0), (0, 0), (p, p), (p, p)), mode='constant')\n",
    "\n",
    "    k, i, j = get_im2col_indices(x.shape, field_height, field_width, padding,\n",
    "                               stride)\n",
    "\n",
    "    cols = x_padded[:, k, i.astype(int), j.astype(int)]\n",
    "    C = x.shape[1]\n",
    "    cols = cols.transpose(1, 2, 0).reshape(field_height * field_width * C, -1)\n",
    "    return cols\n",
    "\n",
    "\n",
    "def col2im_indices(self,cols, x_shape, field_height=3, field_width=3, padding=1,\n",
    "                   stride=1):\n",
    "    \"\"\" An implementation of col2im based on fancy indexing and np.add.at \"\"\"\n",
    "    N, C, H, W = x_shape\n",
    "    H_padded, W_padded = H + 2 * padding, W + 2 * padding\n",
    "    x_padded = np.zeros((N, C, H_padded, W_padded), dtype=cols.dtype)\n",
    "    k, i, j = self.get_im2col_indices(x_shape, field_height, field_width, padding,\n",
    "                               stride)\n",
    "    cols_reshaped = cols.reshape(C * field_height * field_width, -1, N)\n",
    "    cols_reshaped = cols_reshaped.transpose(2, 0, 1)\n",
    "    np.add.at(x_padded, (slice(None), k, i, j), cols_reshaped)\n",
    "    if padding == 0:\n",
    "        return x_padded\n",
    "    return x_padded[:, :, padding:-padding, padding:-padding]\n",
    "\n"
   ]
  },
  {
   "cell_type": "code",
   "execution_count": 68,
   "metadata": {
    "ExecuteTime": {
     "end_time": "2018-11-07T13:49:14.191132Z",
     "start_time": "2018-11-07T13:49:14.168269Z"
    }
   },
   "outputs": [
    {
     "name": "stdout",
     "output_type": "stream",
     "text": [
      "[ 1  2  3  6  7  8 11 12 13 26 27 28 31 32 33 36 37 38 51 52 53 56 57 58\n",
      " 61 62 63]\n",
      "[[[[  0   1   2   3   4]\n",
      "   [  5   6   7   8   9]\n",
      "   [ 10  11  12  13  14]\n",
      "   [ 15  16  17  18  19]\n",
      "   [ 20  21  22  23  24]]\n",
      "\n",
      "  [[ 25  26  27  28  29]\n",
      "   [ 30  31  32  33  34]\n",
      "   [ 35  36  37  38  39]\n",
      "   [ 40  41  42  43  44]\n",
      "   [ 45  46  47  48  49]]\n",
      "\n",
      "  [[ 50  51  52  53  54]\n",
      "   [ 55  56  57  58  59]\n",
      "   [ 60  61  62  63  64]\n",
      "   [ 65  66  67  68  69]\n",
      "   [ 70  71  72  73  74]]]\n",
      "\n",
      "\n",
      " [[[ 75  76  77  78  79]\n",
      "   [ 80  81  82  83  84]\n",
      "   [ 85  86  87  88  89]\n",
      "   [ 90  91  92  93  94]\n",
      "   [ 95  96  97  98  99]]\n",
      "\n",
      "  [[100 101 102 103 104]\n",
      "   [105 106 107 108 109]\n",
      "   [110 111 112 113 114]\n",
      "   [115 116 117 118 119]\n",
      "   [120 121 122 123 124]]\n",
      "\n",
      "  [[125 126 127 128 129]\n",
      "   [130 131 132 133 134]\n",
      "   [135 136 137 138 139]\n",
      "   [140 141 142 143 144]\n",
      "   [145 146 147 148 149]]]\n",
      "\n",
      "\n",
      " [[[150 151 152 153 154]\n",
      "   [155 156 157 158 159]\n",
      "   [160 161 162 163 164]\n",
      "   [165 166 167 168 169]\n",
      "   [170 171 172 173 174]]\n",
      "\n",
      "  [[175 176 177 178 179]\n",
      "   [180 181 182 183 184]\n",
      "   [185 186 187 188 189]\n",
      "   [190 191 192 193 194]\n",
      "   [195 196 197 198 199]]\n",
      "\n",
      "  [[200 201 202 203 204]\n",
      "   [205 206 207 208 209]\n",
      "   [210 211 212 213 214]\n",
      "   [215 216 217 218 219]\n",
      "   [220 221 222 223 224]]]]\n"
     ]
    }
   ],
   "source": [
    "N = 3\n",
    "C = 3\n",
    "W = 5\n",
    "H = 5\n",
    "data = np.arange(N*C*W*H).reshape([N, C, W, H])\n",
    "\n",
    "\n",
    "# print(data.shape)\n",
    "# print(im2col_indices(data,3,3,0,1).shape)\n",
    "\n",
    "print(im2col_indices(data,3,3,0,1)[:,3])\n",
    "print(data)\n"
   ]
  },
  {
   "cell_type": "code",
   "execution_count": 36,
   "metadata": {
    "ExecuteTime": {
     "end_time": "2018-11-07T13:49:14.640092Z",
     "start_time": "2018-11-07T13:49:14.613813Z"
    },
    "collapsed": true
   },
   "outputs": [
    {
     "name": "stdout",
     "output_type": "stream",
     "text": [
      "[[  0  75 150 225   1  76 151 226   2  77 152 227   5  80 155 230   6  81\n",
      "  156 231   7  82 157 232  10  85 160 235  11  86 161 236  12  87 162 237]\n",
      " [  1  76 151 226   2  77 152 227   3  78 153 228   6  81 156 231   7  82\n",
      "  157 232   8  83 158 233  11  86 161 236  12  87 162 237  13  88 163 238]\n",
      " [  2  77 152 227   3  78 153 228   4  79 154 229   7  82 157 232   8  83\n",
      "  158 233   9  84 159 234  12  87 162 237  13  88 163 238  14  89 164 239]\n",
      " [  5  80 155 230   6  81 156 231   7  82 157 232  10  85 160 235  11  86\n",
      "  161 236  12  87 162 237  15  90 165 240  16  91 166 241  17  92 167 242]\n",
      " [  6  81 156 231   7  82 157 232   8  83 158 233  11  86 161 236  12  87\n",
      "  162 237  13  88 163 238  16  91 166 241  17  92 167 242  18  93 168 243]\n",
      " [  7  82 157 232   8  83 158 233   9  84 159 234  12  87 162 237  13  88\n",
      "  163 238  14  89 164 239  17  92 167 242  18  93 168 243  19  94 169 244]\n",
      " [ 10  85 160 235  11  86 161 236  12  87 162 237  15  90 165 240  16  91\n",
      "  166 241  17  92 167 242  20  95 170 245  21  96 171 246  22  97 172 247]\n",
      " [ 11  86 161 236  12  87 162 237  13  88 163 238  16  91 166 241  17  92\n",
      "  167 242  18  93 168 243  21  96 171 246  22  97 172 247  23  98 173 248]\n",
      " [ 12  87 162 237  13  88 163 238  14  89 164 239  17  92 167 242  18  93\n",
      "  168 243  19  94 169 244  22  97 172 247  23  98 173 248  24  99 174 249]\n",
      " [ 25 100 175 250  26 101 176 251  27 102 177 252  30 105 180 255  31 106\n",
      "  181 256  32 107 182 257  35 110 185 260  36 111 186 261  37 112 187 262]\n",
      " [ 26 101 176 251  27 102 177 252  28 103 178 253  31 106 181 256  32 107\n",
      "  182 257  33 108 183 258  36 111 186 261  37 112 187 262  38 113 188 263]\n",
      " [ 27 102 177 252  28 103 178 253  29 104 179 254  32 107 182 257  33 108\n",
      "  183 258  34 109 184 259  37 112 187 262  38 113 188 263  39 114 189 264]\n",
      " [ 30 105 180 255  31 106 181 256  32 107 182 257  35 110 185 260  36 111\n",
      "  186 261  37 112 187 262  40 115 190 265  41 116 191 266  42 117 192 267]\n",
      " [ 31 106 181 256  32 107 182 257  33 108 183 258  36 111 186 261  37 112\n",
      "  187 262  38 113 188 263  41 116 191 266  42 117 192 267  43 118 193 268]\n",
      " [ 32 107 182 257  33 108 183 258  34 109 184 259  37 112 187 262  38 113\n",
      "  188 263  39 114 189 264  42 117 192 267  43 118 193 268  44 119 194 269]\n",
      " [ 35 110 185 260  36 111 186 261  37 112 187 262  40 115 190 265  41 116\n",
      "  191 266  42 117 192 267  45 120 195 270  46 121 196 271  47 122 197 272]\n",
      " [ 36 111 186 261  37 112 187 262  38 113 188 263  41 116 191 266  42 117\n",
      "  192 267  43 118 193 268  46 121 196 271  47 122 197 272  48 123 198 273]\n",
      " [ 37 112 187 262  38 113 188 263  39 114 189 264  42 117 192 267  43 118\n",
      "  193 268  44 119 194 269  47 122 197 272  48 123 198 273  49 124 199 274]\n",
      " [ 50 125 200 275  51 126 201 276  52 127 202 277  55 130 205 280  56 131\n",
      "  206 281  57 132 207 282  60 135 210 285  61 136 211 286  62 137 212 287]\n",
      " [ 51 126 201 276  52 127 202 277  53 128 203 278  56 131 206 281  57 132\n",
      "  207 282  58 133 208 283  61 136 211 286  62 137 212 287  63 138 213 288]\n",
      " [ 52 127 202 277  53 128 203 278  54 129 204 279  57 132 207 282  58 133\n",
      "  208 283  59 134 209 284  62 137 212 287  63 138 213 288  64 139 214 289]\n",
      " [ 55 130 205 280  56 131 206 281  57 132 207 282  60 135 210 285  61 136\n",
      "  211 286  62 137 212 287  65 140 215 290  66 141 216 291  67 142 217 292]\n",
      " [ 56 131 206 281  57 132 207 282  58 133 208 283  61 136 211 286  62 137\n",
      "  212 287  63 138 213 288  66 141 216 291  67 142 217 292  68 143 218 293]\n",
      " [ 57 132 207 282  58 133 208 283  59 134 209 284  62 137 212 287  63 138\n",
      "  213 288  64 139 214 289  67 142 217 292  68 143 218 293  69 144 219 294]\n",
      " [ 60 135 210 285  61 136 211 286  62 137 212 287  65 140 215 290  66 141\n",
      "  216 291  67 142 217 292  70 145 220 295  71 146 221 296  72 147 222 297]\n",
      " [ 61 136 211 286  62 137 212 287  63 138 213 288  66 141 216 291  67 142\n",
      "  217 292  68 143 218 293  71 146 221 296  72 147 222 297  73 148 223 298]\n",
      " [ 62 137 212 287  63 138 213 288  64 139 214 289  67 142 217 292  68 143\n",
      "  218 293  69 144 219 294  72 147 222 297  73 148 223 298  74 149 224 299]]\n"
     ]
    }
   ],
   "source": [
    "print(im2col_indices(data,3,3,0,1))"
   ]
  },
  {
   "cell_type": "code",
   "execution_count": 73,
   "metadata": {
    "ExecuteTime": {
     "end_time": "2018-11-07T13:49:15.181700Z",
     "start_time": "2018-11-07T13:49:15.164854Z"
    }
   },
   "outputs": [
    {
     "name": "stdout",
     "output_type": "stream",
     "text": [
      "[[[[ 0  1  2]\n",
      "   [ 3  4  5]\n",
      "   [ 6  7  8]]\n",
      "\n",
      "  [[ 9 10 11]\n",
      "   [12 13 14]\n",
      "   [15 16 17]]\n",
      "\n",
      "  [[18 19 20]\n",
      "   [21 22 23]\n",
      "   [24 25 26]]]\n",
      "\n",
      "\n",
      " [[[27 28 29]\n",
      "   [30 31 32]\n",
      "   [33 34 35]]\n",
      "\n",
      "  [[36 37 38]\n",
      "   [39 40 41]\n",
      "   [42 43 44]]\n",
      "\n",
      "  [[45 46 47]\n",
      "   [48 49 50]\n",
      "   [51 52 53]]]]\n"
     ]
    }
   ],
   "source": [
    "N_w = 2\n",
    "N_c = C\n",
    "W_w = 3\n",
    "W_h = 3\n",
    "w = np.arange(N_w * N_c * W_w *W_h).reshape([N_w,N_c,W_w,W_h])\n",
    "print(w)"
   ]
  },
  {
   "cell_type": "code",
   "execution_count": 70,
   "metadata": {
    "ExecuteTime": {
     "end_time": "2018-11-07T13:49:16.069458Z",
     "start_time": "2018-11-07T13:49:16.052822Z"
    }
   },
   "outputs": [
    {
     "name": "stdout",
     "output_type": "stream",
     "text": [
      "(2, 27)\n",
      "[[ 0  1  2  3  4  5  6  7  8  9 10 11 12 13 14 15 16 17 18 19 20 21 22 23\n",
      "  24 25 26]\n",
      " [27 28 29 30 31 32 33 34 35 36 37 38 39 40 41 42 43 44 45 46 47 48 49 50\n",
      "  51 52 53]]\n"
     ]
    }
   ],
   "source": [
    "print(w.reshape((w.shape[0], -1)).shape)\n",
    "print(w.reshape((w.shape[0], -1)))"
   ]
  },
  {
   "cell_type": "code",
   "execution_count": 71,
   "metadata": {
    "ExecuteTime": {
     "end_time": "2018-11-07T13:49:22.321549Z",
     "start_time": "2018-11-07T13:49:22.305618Z"
    }
   },
   "outputs": [],
   "source": [
    "dot_prod = w.reshape((w.shape[0],-1)).dot(im2col_indices(data,W_w,W_h,0,1))"
   ]
  },
  {
   "cell_type": "code",
   "execution_count": 72,
   "metadata": {},
   "outputs": [
    {
     "name": "stdout",
     "output_type": "stream",
     "text": [
      "[[ 15219  41544  67869  15570  41895  68220  15921  42246  68571  16974\n",
      "   43299  69624  17325  43650  69975  17676  44001  70326  18729  45054\n",
      "   71379  19080  45405  71730  19431  45756  72081]\n",
      " [ 37818 118818 199818  38898 119898 200898  39978 120978 201978  43218\n",
      "  124218 205218  44298 125298 206298  45378 126378 207378  48618 129618\n",
      "  210618  49698 130698 211698  50778 131778 212778]]\n"
     ]
    }
   ],
   "source": [
    "print(dot_prod)"
   ]
  },
  {
   "cell_type": "code",
   "execution_count": null,
   "metadata": {},
   "outputs": [],
   "source": []
  }
 ],
 "metadata": {
  "kernelspec": {
   "display_name": "Python 3",
   "language": "python",
   "name": "python3"
  },
  "language_info": {
   "codemirror_mode": {
    "name": "ipython",
    "version": 3
   },
   "file_extension": ".py",
   "mimetype": "text/x-python",
   "name": "python",
   "nbconvert_exporter": "python",
   "pygments_lexer": "ipython3",
   "version": "3.7.0"
  },
  "varInspector": {
   "cols": {
    "lenName": 16,
    "lenType": 16,
    "lenVar": 40
   },
   "kernels_config": {
    "python": {
     "delete_cmd_postfix": "",
     "delete_cmd_prefix": "del ",
     "library": "var_list.py",
     "varRefreshCmd": "print(var_dic_list())"
    },
    "r": {
     "delete_cmd_postfix": ") ",
     "delete_cmd_prefix": "rm(",
     "library": "var_list.r",
     "varRefreshCmd": "cat(var_dic_list()) "
    }
   },
   "types_to_exclude": [
    "module",
    "function",
    "builtin_function_or_method",
    "instance",
    "_Feature"
   ],
   "window_display": false
  }
 },
 "nbformat": 4,
 "nbformat_minor": 2
}
