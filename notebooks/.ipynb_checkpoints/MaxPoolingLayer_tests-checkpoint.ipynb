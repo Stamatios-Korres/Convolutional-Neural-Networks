{
 "cells": [
  {
   "cell_type": "code",
   "execution_count": 1,
   "metadata": {},
   "outputs": [
    {
     "ename": "NameError",
     "evalue": "name 'np' is not defined",
     "output_type": "error",
     "traceback": [
      "\u001b[0;31m---------------------------------------------------------------------------\u001b[0m",
      "\u001b[0;31mNameError\u001b[0m                                 Traceback (most recent call last)",
      "\u001b[0;32m<ipython-input-1-541cddeeabc5>\u001b[0m in \u001b[0;36m<module>\u001b[0;34m\u001b[0m\n\u001b[1;32m     28\u001b[0m \u001b[0;31m# # print(np.array(out_newaxis==inputs,dtype=int))\u001b[0m\u001b[0;34m\u001b[0m\u001b[0;34m\u001b[0m\u001b[0m\n\u001b[1;32m     29\u001b[0m \u001b[0;34m\u001b[0m\u001b[0m\n\u001b[0;32m---> 30\u001b[0;31m \u001b[0ma\u001b[0m \u001b[0;34m=\u001b[0m \u001b[0mnp\u001b[0m\u001b[0;34m.\u001b[0m\u001b[0marange\u001b[0m\u001b[0;34m(\u001b[0m\u001b[0;36m2\u001b[0m\u001b[0;34m*\u001b[0m\u001b[0;36m2\u001b[0m\u001b[0;34m)\u001b[0m\u001b[0;34m.\u001b[0m\u001b[0mreshape\u001b[0m\u001b[0;34m(\u001b[0m\u001b[0;36m2\u001b[0m\u001b[0;34m,\u001b[0m\u001b[0;36m2\u001b[0m\u001b[0;34m)\u001b[0m\u001b[0;34m\u001b[0m\u001b[0m\n\u001b[0m\u001b[1;32m     31\u001b[0m \u001b[0mb\u001b[0m \u001b[0;34m=\u001b[0m \u001b[0mnp\u001b[0m\u001b[0;34m.\u001b[0m\u001b[0marange\u001b[0m\u001b[0;34m(\u001b[0m\u001b[0;36m3\u001b[0m\u001b[0;34m)\u001b[0m\u001b[0;34m\u001b[0m\u001b[0m\n\u001b[1;32m     32\u001b[0m \u001b[0mprint\u001b[0m\u001b[0;34m(\u001b[0m\u001b[0ma\u001b[0m\u001b[0;34m)\u001b[0m\u001b[0;34m\u001b[0m\u001b[0m\n",
      "\u001b[0;31mNameError\u001b[0m: name 'np' is not defined"
     ]
    }
   ],
   "source": [
    "# # import numpy as np\n",
    "# # x,y = 15\n",
    "# # array = np.arange(x*y).reshape(x,y)\n",
    "# # assert(x % window_size == 0 and y % window_size == 0)\n",
    "# # #  Dimensions of fprop result \n",
    "# # max_x = x // window_size\n",
    "# # max_y = y // window_size\n",
    "# # # Variables needed to re-arrange the matrix \n",
    "# # items = window_size **2 \n",
    "# # split = x // window_size\n",
    "\n",
    "# # # #inputs has the max for the column and we want to compute the max for the rows \n",
    "# # # row_max = np.argmax(inputs.reshape(batch_size,c_in,x,max_x,window_size),4)\n",
    "# # # print(row_max)\n",
    "# # res = inputs.reshape(batch_size,c_in,x//window_size,window_size, y//window_size,window_size)\n",
    "# # res = res.max(3).max(4)\n",
    "# # # inputs = inputs.reshape(batch_size,c_in,x,max_x,window_size)\n",
    "# # # inputs = inputs.max(axis =4)\n",
    "# # # inputs= inputs.transpose(0,1,3,2)#\n",
    "# # # _,_,x1,y1 = inputs.shape\n",
    "# # # inputs = inputs.reshape(batch_size,c_in,x1,y1//window_size,window_size)\n",
    "# # # inputs = inputs.max(axis=-1).reshape(batch_size,c_in,max_x,max_y).transpose(0,1,3,2)\n",
    "\n",
    "# # # ----------------------------- Implementing bprop -------------------------------------------------- #\n",
    "\n",
    "# # # dx_reshaped = np.zeros_like(x_reshaped)\n",
    "# # # out_newaxis = inputs[:, :, :,None, :, None]\n",
    "# # # print(np.array(out_newaxis==inputs,dtype=int))\n",
    "\n",
    "# a = np.arange(2*2).reshape(2,2)\n",
    "# b = np.arange(3)\n",
    "# print(a)\n",
    "# a = a[:,None,:,None]\n",
    "# print(a)\n"
   ]
  },
  {
   "cell_type": "code",
   "execution_count": null,
   "metadata": {},
   "outputs": [],
   "source": []
  },
  {
   "cell_type": "code",
   "execution_count": 3,
   "metadata": {},
   "outputs": [],
   "source": [
    "import numpy as np\n",
    "from mlp.layers import MaxPooling2DLayer\n",
    "test_correct_target = np.load(\"../data/max_pooling_correct.npz\")\n",
    "test_inputs = test_correct_target['test_inputs']\n",
    "test_grads_wrt_outputs = test_correct_target['test_grads_wrt_outputs']\n",
    "layer_to_test = MaxPooling2DLayer(input_height=test_inputs.shape[2], input_width=test_inputs.shape[3], size=2, stride=2)\n",
    "fprop_preds = layer_to_test.fprop(inputs=test_inputs)\n",
    "bprop_preds = layer_to_test.bprop(inputs=test_inputs, outputs=fprop_preds, grads_wrt_outputs=test_grads_wrt_outputs)"
   ]
  },
  {
   "cell_type": "code",
   "execution_count": 5,
   "metadata": {},
   "outputs": [
    {
     "name": "stdout",
     "output_type": "stream",
     "text": [
      "Passed fprop test\n",
      "Passed bprop test\n"
     ]
    }
   ],
   "source": [
    "fprop_accuracy = np.mean(np.allclose(test_correct_target['fprop_correct'], fprop_preds))\n",
    "bprop_accuracy = np.mean(np.allclose(test_correct_target['bprop_correct'], bprop_preds))\n",
    "\n",
    "if fprop_accuracy == 1.0:\n",
    "    print(\"Passed fprop test\")\n",
    "else:\n",
    "    print(\"Failed fprop test, correct outputs: {}, predicted_outputs: {}\".format(test_correct_target['fprop_correct'], fprop_preds))\n",
    "\n",
    "if bprop_accuracy == 1.0:\n",
    "    print(\"Passed bprop test\")\n",
    "else:\n",
    "    print(\"Failed bprop test, correct grads: {}, predicted grads: {}\".format(test_correct_target['bprop_correct'], bprop_preds))"
   ]
  },
  {
   "cell_type": "code",
   "execution_count": null,
   "metadata": {},
   "outputs": [],
   "source": []
  },
  {
   "cell_type": "code",
   "execution_count": null,
   "metadata": {},
   "outputs": [],
   "source": []
  },
  {
   "cell_type": "code",
   "execution_count": null,
   "metadata": {},
   "outputs": [],
   "source": []
  }
 ],
 "metadata": {
  "anaconda-cloud": {},
  "kernelspec": {
   "display_name": "Python 3",
   "language": "python",
   "name": "python3"
  },
  "language_info": {
   "codemirror_mode": {
    "name": "ipython",
    "version": 3
   },
   "file_extension": ".py",
   "mimetype": "text/x-python",
   "name": "python",
   "nbconvert_exporter": "python",
   "pygments_lexer": "ipython3",
   "version": "3.6.6"
  }
 },
 "nbformat": 4,
 "nbformat_minor": 1
}
